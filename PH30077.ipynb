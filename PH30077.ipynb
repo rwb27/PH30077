{
 "cells": [
  {
   "cell_type": "markdown",
   "metadata": {},
   "source": [
    "# PH30077: Electromagnetism 2 (Part 1)\n",
    "\n",
    "## Notebook copy/update script\n",
    "\n",
    "This purpose of this notebook is to create a folder to use for your work on the Module PH30077: Electromagnetism 2.  Don't worry if you have not used Jupyter notebooks before, the lectures and material provided for your course will guide you.  Use of the Jupyter notebooks is non-examinable but I hope it will enhance your understanding of the core material.\n",
    "\n",
    "For now select the cell below and run the cell by pressing the `Run` button in the toolbar above.  This will create a folder in your home directory and make a copy of any resources you will need.  When this has run successfully the text to the left of the will change from `In [ ]` to `In [1]`.  You can then close this tab and open the `PH30077` folder in your home directory to get started.\n",
    "\n",
    "I will add further notebooks as we progress through the course.  You can re-run this script to copy the new notebooks into your folder."
   ]
  },
  {
   "cell_type": "code",
   "execution_count": 1,
   "metadata": {},
   "outputs": [],
   "source": [
    "!cp -r -n ~/courses/PH30077 ~/"
   ]
  },
  {
   "cell_type": "code",
   "execution_count": null,
   "metadata": {},
   "outputs": [],
   "source": []
  }
 ],
 "metadata": {
  "kernelspec": {
   "display_name": "Python 3",
   "language": "python",
   "name": "python3"
  },
  "language_info": {
   "codemirror_mode": {
    "name": "ipython",
    "version": 3
   },
   "file_extension": ".py",
   "mimetype": "text/x-python",
   "name": "python",
   "nbconvert_exporter": "python",
   "pygments_lexer": "ipython3",
   "version": "3.7.3"
  }
 },
 "nbformat": 4,
 "nbformat_minor": 4
}
